{
 "cells": [
  {
   "cell_type": "code",
   "execution_count": 28,
   "id": "63dacf82",
   "metadata": {},
   "outputs": [],
   "source": [
    "from sklearn import datasets\n",
    "from sklearn.model_selection import cross_val_score, GridSearchCV, train_test_split\n",
    "from sklearn.ensemble import GradientBoostingClassifier\n",
    "from sklearn.metrics import accuracy_score, classification_report, confusion_matrix\n",
    "from sklearn import datasets"
   ]
  },
  {
   "cell_type": "code",
   "execution_count": 29,
   "id": "f742fc34",
   "metadata": {},
   "outputs": [],
   "source": [
    "#Load dataset\n",
    "cancer = datasets.load_breast_cancer()"
   ]
  },
  {
   "cell_type": "code",
   "execution_count": 30,
   "id": "59bc5de7",
   "metadata": {},
   "outputs": [
    {
     "name": "stdout",
     "output_type": "stream",
     "text": [
      "Features:  ['mean radius' 'mean texture' 'mean perimeter' 'mean area'\n",
      " 'mean smoothness' 'mean compactness' 'mean concavity'\n",
      " 'mean concave points' 'mean symmetry' 'mean fractal dimension'\n",
      " 'radius error' 'texture error' 'perimeter error' 'area error'\n",
      " 'smoothness error' 'compactness error' 'concavity error'\n",
      " 'concave points error' 'symmetry error' 'fractal dimension error'\n",
      " 'worst radius' 'worst texture' 'worst perimeter' 'worst area'\n",
      " 'worst smoothness' 'worst compactness' 'worst concavity'\n",
      " 'worst concave points' 'worst symmetry' 'worst fractal dimension']\n",
      "Labels:  ['malignant' 'benign']\n"
     ]
    }
   ],
   "source": [
    "print(\"Features: \", cancer.feature_names)\n",
    "# label type of cancer('malignant' 'benign')\n",
    "print(\"Labels: \", cancer.target_names)"
   ]
  },
  {
   "cell_type": "code",
   "execution_count": 31,
   "id": "1c36c707",
   "metadata": {},
   "outputs": [],
   "source": [
    "X_train, X_test, y_train, y_test = train_test_split(cancer.data, cancer.target, test_size=0.2, random_state=42)"
   ]
  },
  {
   "cell_type": "code",
   "execution_count": 32,
   "id": "7c2845c2",
   "metadata": {},
   "outputs": [],
   "source": [
    "# Gradient Boosting Classifier\n",
    "gb_classifier = GradientBoostingClassifier()"
   ]
  },
  {
   "cell_type": "code",
   "execution_count": 33,
   "id": "df1c0c9d",
   "metadata": {},
   "outputs": [],
   "source": [
    "# Define the parameter grid for Gradient Boosting\n",
    "para_grid_gb = {'n_estimators': [50, 100, 150],\n",
    "                 'learning_rate': [0.01, 0.1, 1.0],\n",
    "                 'max_depth': [3, 5, None]}"
   ]
  },
  {
   "cell_type": "code",
   "execution_count": 34,
   "id": "8c5af86b",
   "metadata": {},
   "outputs": [],
   "source": [
    "gridsearch_gb = GridSearchCV(gb_classifier, para_grid_gb, cv=5)\n",
    "\n",
    "# Perform grid search for Gradient Boosting\n",
    "gridsearch_gb.fit(X_train, y_train)\n",
    "\n",
    "# Get the best Gradient Boosting model\n",
    "best_gb_classifier = gridsearch_gb.best_estimator_"
   ]
  },
  {
   "cell_type": "code",
   "execution_count": 35,
   "id": "ab2190ae",
   "metadata": {
    "scrolled": true
   },
   "outputs": [
    {
     "name": "stdout",
     "output_type": "stream",
     "text": [
      "Gradient Boosting - Cross-validation scores:  [0.97802198 0.94505495 0.97802198 0.97802198 0.92307692]\n",
      "Gradient Boosting - Average cross-validation score: 0.96\n"
     ]
    }
   ],
   "source": [
    "# k-fold cross-validation with best Gradient Boosting model\n",
    "cv_scores = cross_val_score(best_gb_classifier, X_train, y_train, cv=5)\n",
    "print(\"Gradient Boosting - Cross-validation scores: \", cv_scores)\n",
    "print(\"Gradient Boosting - Average cross-validation score: {:.2f}\".format(cv_scores.mean()))\n"
   ]
  },
  {
   "cell_type": "code",
   "execution_count": 36,
   "id": "bdb7ea74",
   "metadata": {},
   "outputs": [
    {
     "name": "stdout",
     "output_type": "stream",
     "text": [
      "Best parameters: {'learning_rate': 1.0, 'max_depth': 3, 'n_estimators': 50}\n"
     ]
    }
   ],
   "source": [
    "print(\"Best parameters:\", gridsearch_gb.best_params_)"
   ]
  },
  {
   "cell_type": "code",
   "execution_count": 37,
   "id": "89e7d51b",
   "metadata": {},
   "outputs": [],
   "source": [
    "# Predict on the test set using the best Gradient Boosting model\n",
    "y_pred_gb_best = best_gb_classifier.predict(X_test)"
   ]
  },
  {
   "cell_type": "code",
   "execution_count": 38,
   "id": "dd6e29dc",
   "metadata": {},
   "outputs": [],
   "source": [
    "tn, fp, fn, tp = confusion_matrix(y_test, y_pred_gb_best).ravel()"
   ]
  },
  {
   "cell_type": "code",
   "execution_count": 39,
   "id": "8bd99842",
   "metadata": {},
   "outputs": [],
   "source": [
    "Sensitivity = tp / (tp + fn)\n",
    "Specificity = tn / (tn + fp)"
   ]
  },
  {
   "cell_type": "code",
   "execution_count": 40,
   "id": "b585027d",
   "metadata": {},
   "outputs": [
    {
     "name": "stdout",
     "output_type": "stream",
     "text": [
      "Best Gradient Boosting model test set accuracy: 0.96\n",
      "\n",
      "Sensitivity : 0.971830985915493\n",
      "Specificity: 0.9302325581395349\n",
      "\n",
      "Classification Report for Gradient Boosting:\n",
      "              precision    recall  f1-score   support\n",
      "\n",
      "           0       0.95      0.93      0.94        43\n",
      "           1       0.96      0.97      0.97        71\n",
      "\n",
      "    accuracy                           0.96       114\n",
      "   macro avg       0.96      0.95      0.95       114\n",
      "weighted avg       0.96      0.96      0.96       114\n",
      "\n"
     ]
    }
   ],
   "source": [
    "# Evaluating model's performance on the test set\n",
    "test_accuracy_gb_best = accuracy_score(y_test, y_pred_gb_best)\n",
    "print(\"Best Gradient Boosting model test set accuracy: {:.2f}\".format(test_accuracy_gb_best))\n",
    "print(\"\\nSensitivity :\", Sensitivity)\n",
    "print(\"Specificity:\", Specificity)\n",
    "print(\"\\nClassification Report for Gradient Boosting:\")\n",
    "print(classification_report(y_test, y_pred_gb_best))"
   ]
  },
  {
   "cell_type": "code",
   "execution_count": null,
   "id": "6e1d5660",
   "metadata": {},
   "outputs": [],
   "source": []
  }
 ],
 "metadata": {
  "kernelspec": {
   "display_name": "Python 3 (ipykernel)",
   "language": "python",
   "name": "python3"
  },
  "language_info": {
   "codemirror_mode": {
    "name": "ipython",
    "version": 3
   },
   "file_extension": ".py",
   "mimetype": "text/x-python",
   "name": "python",
   "nbconvert_exporter": "python",
   "pygments_lexer": "ipython3",
   "version": "3.9.13"
  }
 },
 "nbformat": 4,
 "nbformat_minor": 5
}
